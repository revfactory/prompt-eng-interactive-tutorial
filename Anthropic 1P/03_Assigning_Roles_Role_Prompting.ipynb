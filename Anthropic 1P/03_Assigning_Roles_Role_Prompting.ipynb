{
 "cells": [
  {
   "cell_type": "markdown",
   "metadata": {},
   "source": "# 챕터 3: 역할 할당 (역할 프롬프팅)\n\n- [레슨](#lesson)\n- [연습문제](#exercises)\n- [예제 플레이그라운드](#example-playground)\n\n## 설정\n\n다음 설정 셀을 실행하여 API 키를 로드하고 `get_completion` 헬퍼 함수를 설정하세요.",
   "outputs": []
  },
  {
   "cell_type": "code",
   "metadata": {},
   "outputs": [],
   "source": "!pip install anthropic\n\n# 파이썬의 내장 정규 표현식 라이브러리 가져오기\nimport re\nimport anthropic\n\n# IPython 저장소에서 API_KEY & MODEL_NAME 변수 검색\n%store -r API_KEY\n%store -r MODEL_NAME\n\nclient = anthropic.Anthropic(api_key=API_KEY)\n\ndef get_completion(prompt: str, system_prompt=\"\"):\n    message = client.messages.create(\n        model=MODEL_NAME,\n        max_tokens=2000,\n        temperature=0.0,\n        system=system_prompt,\n        messages=[\n          {\"role\": \"user\", \"content\": prompt}\n        ]\n    )\n    return message.content[0].text"
  },
  {
   "cell_type": "markdown",
   "metadata": {},
   "source": "---\n\n## 레슨\n\nClaude가 여러분이 말하는 것 외에는 어떤 맥락도 가지고 있지 않다는 주제를 계속해서, 때로는 **Claude가 특정 역할을 맡도록 프롬프트하는 것(필요한 모든 맥락 포함)이 중요합니다**. 이를 역할 프롬프팅이라고도 합니다. 역할 맥락에 대한 세부사항이 많을수록 더 좋습니다.\n\n**Claude에게 역할을 부여하면 Claude의 성능을 향상시킬 수 있습니다** - 글쓰기부터 코딩, 요약까지 다양한 분야에서 말이죠. 이는 인간이 \"______처럼 생각하라\"고 말을 들었을 때 때때로 도움을 받는 것과 같습니다. 역할 프롬프팅은 또한 Claude 응답의 스타일, 톤, 방식을 변경할 수 있습니다.\n\n**참고:** 역할 프롬프팅은 시스템 프롬프트나 사용자 메시지 턴의 일부로 수행될 수 있습니다.",
   "outputs": []
  },
  {
   "cell_type": "markdown",
   "metadata": {},
   "source": "### 예시\n\n아래 예시에서 우리는 역할 프롬프팅 없이는 Claude가 스케이트보딩에 대한 한 문장짜리 관점을 요청받았을 때 **직설적이고 스타일화되지 않은 답변**을 제공하는 것을 볼 수 있습니다.\n\n그러나 Claude가 고양이의 역할을 맡도록 유도하면 Claude의 관점이 바뀌고, 따라서 **Claude의 응답 톤, 스타일, 내용이 새로운 역할에 맞게 조정됩니다**.\n\n**참고:** 사용할 수 있는 보너스 기법은 **Claude에게 의도된 대상에 대한 맥락을 제공하는 것**입니다. 아래에서 우리는 Claude에게 누구에게 말해야 하는지도 알려주도록 프롬프트를 조정할 수 있었습니다. \"당신은 고양이입니다\"는 \"당신은 스케이트보더 군중에게 말하는 고양이입니다\"와는 상당히 다른 응답을 생성합니다.\n\n다음은 시스템 프롬프트에서 역할 프롬프팅이 없는 프롬프트입니다:",
   "outputs": []
  },
  {
   "cell_type": "code",
   "metadata": {},
   "outputs": [],
   "source": "# 프롬프트\nPROMPT = \"한 문장으로, 스케이트보딩에 대해 어떻게 생각하시나요?\"\n\n# Claude의 응답 출력\nprint(get_completion(PROMPT))"
  },
  {
   "cell_type": "markdown",
   "metadata": {},
   "source": "다음은 동일한 사용자 질문이지만 역할 프롬프팅이 적용된 것입니다.",
   "outputs": []
  },
  {
   "cell_type": "code",
   "metadata": {},
   "outputs": [],
   "source": "# 시스템 프롬프트\nSYSTEM_PROMPT = \"당신은 고양이입니다.\"\n\n# 프롬프트\nPROMPT = \"한 문장으로, 스케이트보딩에 대해 어떻게 생각하시나요?\"\n\n# Claude의 응답 출력\nprint(get_completion(PROMPT, SYSTEM_PROMPT))"
  },
  {
   "cell_type": "markdown",
   "metadata": {},
   "source": "역할 프롬프팅을 사용하여 Claude가 글쓰기에서 특정 스타일을 모방하거나, 특정 목소리로 말하거나, 답변의 복잡성을 안내하도록 할 수 있습니다. **역할 프롬프팅은 또한 Claude가 수학이나 논리 작업을 더 잘 수행하도록 만들 수 있습니다.**\n\n예를 들어, 아래 예시에서는 정답이 명확히 \"예\"인데, Claude가 틀리게 답하고 정보가 부족하다고 생각하지만, 실제로는 그렇지 않습니다:",
   "outputs": []
  },
  {
   "cell_type": "code",
   "metadata": {},
   "outputs": [],
   "source": "# 프롬프트\nPROMPT = \"잭이 앤을 보고 있습니다. 앤이 조지를 보고 있습니다. 잭은 결혼했고, 조지는 결혼하지 않았으며, 앤이 결혼했는지는 알 수 없습니다. 결혼한 사람이 결혼하지 않은 사람을 보고 있나요?\"\n\n# Claude의 응답 출력\nprint(get_completion(PROMPT))"
  },
  {
   "cell_type": "markdown",
   "metadata": {},
   "source": "이제 **Claude가 논리 봇 역할을 하도록 유도하면** 어떨까요? 이것이 Claude의 답변을 어떻게 바꿀까요?\n\n이 새로운 역할 할당으로 Claude가 정답을 맞히는 것으로 나타났습니다. (비록 모든 올바른 이유는 아니지만 주목할 만합니다)",
   "outputs": []
  },
  {
   "cell_type": "code",
   "metadata": {},
   "outputs": [],
   "source": "# 시스템 프롬프트\nSYSTEM_PROMPT = \"당신은 복잡한 논리 문제를 해결하도록 설계된 논리 봇입니다.\"\n\n# 프롬프트\nPROMPT = \"잭이 앤을 보고 있습니다. 앤이 조지를 보고 있습니다. 잭은 결혼했고, 조지는 결혼하지 않았으며, 앤이 결혼했는지는 알 수 없습니다. 결혼한 사람이 결혼하지 않은 사람을 보고 있나요?\"\n\n# Claude의 응답 출력\nprint(get_completion(PROMPT, SYSTEM_PROMPT))"
  },
  {
   "cell_type": "markdown",
   "metadata": {},
   "source": "**참고:** 이 과정을 통해 배우게 될 것은 **유사한 결과를 도출하기 위해 사용할 수 있는 많은 프롬프트 엔지니어링 기법이 있다는 것**입니다. 어떤 기법을 사용할지는 여러분과 여러분의 선호도에 달려 있습니다! 우리는 **실험을 통해 여러분만의 프롬프트 엔지니어링 스타일을 찾기를 권장합니다**.\n\n위의 내용을 변경하지 않고 레슨 프롬프트를 실험해보고 싶다면, 레슨 노트북의 맨 아래로 스크롤하여 [**예제 플레이그라운드**](#example-playground)를 방문하세요.",
   "outputs": []
  },
  {
   "cell_type": "markdown",
   "metadata": {},
   "source": "---\n\n## 연습문제\n- [연습문제 3.1 - 수학 교정](#exercise-31---math-correction)",
   "outputs": []
  },
  {
   "cell_type": "markdown",
   "metadata": {},
   "source": "### 연습문제 3.1 - 수학 교정\n어떤 경우에는 **Claude가 수학에 어려움을 겪을 수 있습니다**, 심지어 간단한 수학이라도 말입니다. 아래에서 Claude는 두 번째 단계에서 명백한 산술 실수가 있음에도 불구하고 수학 문제가 올바르게 풀렸다고 잘못 평가합니다. Claude가 실제로 단계별로 진행할 때 실수를 포착하지만, 전체 해답이 틀렸다는 결론에 도달하지 못한다는 점에 주목하세요.\n\n`PROMPT` 및/또는 `SYSTEM_PROMPT`를 수정하여 Claude가 해답을 올바르게 풀렸다고 평가하는 대신 `잘못` 풀렸다고 평가하도록 만드세요.",
   "outputs": []
  },
  {
   "cell_type": "code",
   "metadata": {},
   "outputs": [],
   "source": "# 시스템 프롬프트 - 시스템 프롬프트를 사용하지 않으려면 이 변수를 빈 문자열로 설정할 수 있습니다\nSYSTEM_PROMPT = \"\"\n\n# 프롬프트\nPROMPT = \"\"\"아래 방정식이 올바르게 풀렸나요?\n\n2x - 3 = 9\n2x = 6\nx = 3\"\"\"\n\n# Claude의 응답 받기\nresponse = get_completion(PROMPT, SYSTEM_PROMPT)\n\n# 연습문제 정답 채점 함수\ndef grade_exercise(text):\n    if \"incorrect\" in text or \"not correct\" in text.lower():\n        return True\n    else:\n        return False\n\n# Claude의 응답과 해당 점수 출력\nprint(response)\nprint(\"\\n--------------------------- 채점 ---------------------------\")\nprint(\"이 연습문제가 올바르게 해결되었습니다:\", grade_exercise(response))"
  },
  {
   "cell_type": "markdown",
   "metadata": {},
   "source": "❓ 힌트가 필요하다면 아래 셀을 실행하세요!",
   "outputs": []
  },
  {
   "cell_type": "code",
   "execution_count": null,
   "metadata": {},
   "outputs": [],
   "source": [
    "from hints import exercise_3_1_hint; print(exercise_3_1_hint)"
   ]
  },
  {
   "cell_type": "markdown",
   "metadata": {},
   "source": "### 축하합니다!\n\n지금까지 모든 연습문제를 해결했다면, 다음 챕터로 넘어갈 준비가 되었습니다. 즐거운 프롬프팅 되세요!",
   "outputs": []
  },
  {
   "cell_type": "markdown",
   "metadata": {},
   "source": "---\n\n## 예제 플레이그라운드\n\n이곳은 이 레슨에서 보여준 프롬프트 예제들을 자유롭게 실험하고 프롬프트를 조정하여 Claude의 응답에 어떤 영향을 미치는지 볼 수 있는 공간입니다.",
   "outputs": []
  },
  {
   "cell_type": "code",
   "metadata": {},
   "outputs": [],
   "source": "# 프롬프트\nPROMPT = \"한 문장으로, 스케이트보딩에 대해 어떻게 생각하시나요?\"\n\n# Claude의 응답 출력\nprint(get_completion(PROMPT))"
  },
  {
   "cell_type": "code",
   "metadata": {},
   "outputs": [],
   "source": "# 시스템 프롬프트\nSYSTEM_PROMPT = \"당신은 고양이입니다.\"\n\n# 프롬프트\nPROMPT = \"한 문장으로, 스케이트보딩에 대해 어떻게 생각하시나요?\"\n\n# Claude의 응답 출력\nprint(get_completion(PROMPT, SYSTEM_PROMPT))"
  },
  {
   "cell_type": "code",
   "metadata": {},
   "outputs": [],
   "source": "# 프롬프트\nPROMPT = \"잭이 앤을 보고 있습니다. 앤이 조지를 보고 있습니다. 잭은 결혼했고, 조지는 결혼하지 않았으며, 앤이 결혼했는지는 알 수 없습니다. 결혼한 사람이 결혼하지 않은 사람을 보고 있나요?\"\n\n# Claude의 응답 출력\nprint(get_completion(PROMPT))"
  },
  {
   "cell_type": "code",
   "metadata": {},
   "outputs": [],
   "source": "# 시스템 프롬프트\nSYSTEM_PROMPT = \"당신은 복잡한 논리 문제를 해결하도록 설계된 논리 봇입니다.\"\n\n# 프롬프트\nPROMPT = \"잭이 앤을 보고 있습니다. 앤이 조지를 보고 있습니다. 잭은 결혼했고, 조지는 결혼하지 않았으며, 앤이 결혼했는지는 알 수 없습니다. 결혼한 사람이 결혼하지 않은 사람을 보고 있나요?\"\n\n# Claude의 응답 출력\nprint(get_completion(PROMPT, SYSTEM_PROMPT))"
  }
 ],
 "metadata": {
  "language_info": {
   "name": "python"
  }
 },
 "nbformat": 4,
 "nbformat_minor": 2
}