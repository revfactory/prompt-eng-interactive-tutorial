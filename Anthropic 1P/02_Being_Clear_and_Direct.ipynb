{
 "cells": [
  {
   "cell_type": "markdown",
   "metadata": {},
   "source": "# 챕터 2: 명확하고 직접적으로 표현하기\n\n- [강의](#lesson)\n- [연습 문제](#exercises)\n- [예시 플레이그라운드](#example-playground)\n\n## 설정\n\n다음 설정 셀을 실행하여 API 키를 로드하고 `get_completion` 헬퍼 함수를 설정하세요.",
   "outputs": []
  },
  {
   "cell_type": "code",
   "execution_count": null,
   "metadata": {},
   "outputs": [],
   "source": [
    "!pip install anthropic\n",
    "\n",
    "# Import python's built-in regular expression library\n",
    "import re\n",
    "import anthropic\n",
    "\n",
    "# Retrieve the API_KEY & MODEL_NAME variables from the IPython store\n",
    "%store -r API_KEY\n",
    "%store -r MODEL_NAME\n",
    "\n",
    "client = anthropic.Anthropic(api_key=API_KEY)\n",
    "\n",
    "# Note that we changed max_tokens to 4K just for this lesson to allow for longer completions in the exercises\n",
    "def get_completion(prompt: str, system_prompt=\"\"):\n",
    "    message = client.messages.create(\n",
    "        model=MODEL_NAME,\n",
    "        max_tokens=4000,\n",
    "        temperature=0.0,\n",
    "        system=system_prompt,\n",
    "        messages=[\n",
    "          {\"role\": \"user\", \"content\": prompt}\n",
    "        ]\n",
    "    )\n",
    "    return message.content[0].text"
   ]
  },
  {
   "cell_type": "markdown",
   "metadata": {},
   "source": "---\n\n## 강의\n\n**Claude는 명확하고 직접적인 지시사항에 가장 잘 응답합니다.**\n\nClaude를 업무에 새로 투입된 다른 사람처럼 생각하세요. **Claude는 당신이 말 그대로 전달하는 것 외에는 무엇을 해야 하는지에 대한 맥락이 없습니다.** 처음으로 사람에게 작업을 지시할 때와 마찬가지로, 원하는 것을 Claude에게 직접적인 방식으로 정확히 설명할수록, Claude의 응답이 더 좋고 정확해집니다.\n\t\t\t\t\n확신이 서지 않을 때는 **명확한 프롬프팅의 황금법칙**을 따르세요:\n- 동료나 친구에게 프롬프트를 보여주고 그들이 직접 지시사항을 따라해보도록 하여 원하는 결과를 얻을 수 있는지 확인하세요. 그들이 혼란스러워한다면, Claude도 혼란스러워할 것입니다.",
   "outputs": []
  },
  {
   "cell_type": "markdown",
   "metadata": {},
   "source": "### 예시\n\n시 쓰기와 같은 작업을 예로 들어보겠습니다. (음절 불일치는 무시하세요 - LLM은 아직 음절 세기에 능숙하지 않습니다.)",
   "outputs": []
  },
  {
   "cell_type": "code",
   "metadata": {},
   "outputs": [],
   "source": "# 프롬프트\nPROMPT = \"로봇에 대한 하이쿠를 써주세요.\"\n\n# Claude의 응답 출력\nprint(get_completion(PROMPT))"
  },
  {
   "cell_type": "markdown",
   "metadata": {},
   "source": "이 하이쿠는 충분히 좋지만, 사용자들은 Claude가 \"여기 하이쿠입니다\"와 같은 서두 없이 바로 시로 들어가기를 원할 수 있습니다.\n\n어떻게 달성할 수 있을까요? **요청하면 됩니다**!",
   "outputs": []
  },
  {
   "cell_type": "code",
   "metadata": {},
   "outputs": [],
   "source": "# 프롬프트\nPROMPT = \"로봇에 대한 하이쿠를 써주세요. 서두는 생략하고 바로 시로 들어가세요.\"\n\n# Claude의 응답 출력\nprint(get_completion(PROMPT))"
  },
  {
   "cell_type": "markdown",
   "metadata": {},
   "source": "다른 예시입니다. Claude에게 역대 최고의 농구 선수가 누구인지 물어봅시다. 아래에서 볼 수 있듯이 Claude는 몇 명의 이름을 나열하지만, **명확한 \"최고\"로 응답하지는 않습니다**.",
   "outputs": []
  },
  {
   "cell_type": "code",
   "metadata": {},
   "outputs": [],
   "source": "# 프롬프트\nPROMPT = \"역대 최고의 농구 선수는 누구인가요?\"\n\n# Claude의 응답 출력\nprint(get_completion(PROMPT))"
  },
  {
   "cell_type": "markdown",
   "metadata": {},
   "source": "Claude가 마음을 정하고 최고의 선수를 결정하도록 할 수 있을까요? 네! 그냥 요청하면 됩니다!",
   "outputs": []
  },
  {
   "cell_type": "code",
   "metadata": {},
   "outputs": [],
   "source": "# 프롬프트\nPROMPT = \"역대 최고의 농구 선수는 누구인가요? 네, 서로 다른 의견들이 있지만, 절대적으로 한 명의 선수를 선택해야 한다면 누구를 고를 건가요?\"\n\n# Claude의 응답 출력\nprint(get_completion(PROMPT))"
  },
  {
   "cell_type": "markdown",
   "metadata": {},
   "source": "위의 내용을 변경하지 않고 강의 프롬프트를 실험해보고 싶다면, 강의 노트북의 맨 아래로 스크롤하여 [**예시 플레이그라운드**](#example-playground)를 방문하세요.",
   "outputs": []
  },
  {
   "cell_type": "markdown",
   "metadata": {},
   "source": "---\n\n## 연습 문제\n- [연습 문제 2.1 - 스페인어](#exercise-21---spanish)\n- [연습 문제 2.2 - 한 명의 선수만](#exercise-22---one-player-only)\n- [연습 문제 2.3 - 이야기 쓰기](#exercise-23---write-a-story)",
   "outputs": []
  },
  {
   "cell_type": "markdown",
   "metadata": {},
   "source": "### 연습 문제 2.1 - 스페인어\nClaude가 답변을 스페인어로 출력하도록 `SYSTEM_PROMPT`를 수정하세요.",
   "outputs": []
  },
  {
   "cell_type": "code",
   "metadata": {},
   "outputs": [],
   "source": "# 시스템 프롬프트 - 이 필드만 변경하세요\nSYSTEM_PROMPT = \"[이 텍스트를 교체하세요]\"\n\n# 프롬프트\nPROMPT = \"안녕 Claude, 어떻게 지내?\"\n\n# Claude의 응답 가져오기\nresponse = get_completion(PROMPT, SYSTEM_PROMPT)\n\n# 연습 문제 정답 체크 함수\ndef grade_exercise(text):\n    return \"hola\" in text.lower()\n\n# Claude의 응답과 해당 점수 출력\nprint(response)\nprint(\"\\n--------------------------- 채점 ---------------------------\")\nprint(\"이 연습 문제가 올바르게 해결되었습니다:\", grade_exercise(response))"
  },
  {
   "cell_type": "markdown",
   "metadata": {},
   "source": "❓ 힌트가 필요하다면 아래 셀을 실행하세요!",
   "outputs": []
  },
  {
   "cell_type": "code",
   "execution_count": null,
   "metadata": {},
   "outputs": [],
   "source": [
    "from hints import exercise_2_1_hint; print(exercise_2_1_hint)"
   ]
  },
  {
   "cell_type": "markdown",
   "metadata": {},
   "source": "### 연습 문제 2.2 - 한 명의 선수만\n\nClaude가 전혀 애매하게 대답하지 않고 **오직** 한 명의 특정 선수의 이름만으로, **다른 단어나 구두점 없이** 응답하도록 `PROMPT`를 수정하세요.",
   "outputs": []
  },
  {
   "cell_type": "code",
   "metadata": {},
   "outputs": [],
   "source": "# 프롬프트 - 이 필드만 변경하세요\nPROMPT = \"[이 텍스트를 교체하세요]\"\n\n# Claude의 응답 가져오기\nresponse = get_completion(PROMPT)\n\n# 연습 문제 정답 체크 함수\ndef grade_exercise(text):\n    return text == \"Michael Jordan\"\n\n# Claude의 응답과 해당 점수 출력\nprint(response)\nprint(\"\\n--------------------------- 채점 ---------------------------\")\nprint(\"이 연습 문제가 올바르게 해결되었습니다:\", grade_exercise(response))"
  },
  {
   "cell_type": "markdown",
   "metadata": {},
   "source": "❓ 힌트가 필요하다면 아래 셀을 실행하세요!",
   "outputs": []
  },
  {
   "cell_type": "code",
   "execution_count": null,
   "metadata": {},
   "outputs": [],
   "source": [
    "from hints import exercise_2_2_hint; print(exercise_2_2_hint)"
   ]
  },
  {
   "cell_type": "markdown",
   "metadata": {},
   "source": "### 연습 문제 2.3 - 이야기 쓰기\n\nClaude가 가능한 한 긴 응답을 하도록 `PROMPT`를 수정하세요. 답변이 **800단어 이상**이면, Claude의 응답이 정답으로 채점됩니다.",
   "outputs": []
  },
  {
   "cell_type": "code",
   "metadata": {},
   "outputs": [],
   "source": "# 프롬프트 - 이 필드만 변경하세요\nPROMPT = \"[이 텍스트를 교체하세요]\"\n\n# Claude의 응답 가져오기\nresponse = get_completion(PROMPT)\n\n# 연습 문제 정답 체크 함수\ndef grade_exercise(text):\n    trimmed = text.strip()\n    words = len(trimmed.split())\n    return words >= 800\n\n# Claude의 응답과 해당 점수 출력\nprint(response)\nprint(\"\\n--------------------------- 채점 ---------------------------\")\nprint(\"이 연습 문제가 올바르게 해결되었습니다:\", grade_exercise(response))"
  },
  {
   "cell_type": "markdown",
   "metadata": {},
   "source": "❓ 힌트가 필요하다면 아래 셀을 실행하세요!",
   "outputs": []
  },
  {
   "cell_type": "code",
   "execution_count": null,
   "metadata": {},
   "outputs": [],
   "source": [
    "from hints import exercise_2_3_hint; print(exercise_2_3_hint)"
   ]
  },
  {
   "cell_type": "markdown",
   "metadata": {},
   "source": "### 축하합니다!\n\n여기까지 모든 연습 문제를 해결했다면, 다음 챕터로 넘어갈 준비가 되었습니다. 즐거운 프롬프팅!",
   "outputs": []
  },
  {
   "cell_type": "markdown",
   "metadata": {},
   "source": "---\n\n## 예시 플레이그라운드\n\n이 영역에서는 이 강의에서 보여준 프롬프트 예시들을 자유롭게 실험하고 프롬프트를 조정하여 Claude의 응답이 어떻게 변하는지 확인해볼 수 있습니다.",
   "outputs": []
  },
  {
   "cell_type": "code",
   "metadata": {},
   "outputs": [],
   "source": "# 프롬프트\nPROMPT = \"로봇에 대한 하이쿠를 써주세요.\"\n\n# Claude의 응답 출력\nprint(get_completion(PROMPT))"
  },
  {
   "cell_type": "code",
   "metadata": {},
   "outputs": [],
   "source": "# 프롬프트\nPROMPT = \"로봇에 대한 하이쿠를 써주세요. 서두는 생략하고 바로 시로 들어가세요.\"\n\n# Claude의 응답 출력\nprint(get_completion(PROMPT))"
  },
  {
   "cell_type": "code",
   "metadata": {},
   "outputs": [],
   "source": "# 프롬프트\nPROMPT = \"역대 최고의 농구 선수는 누구인가요?\"\n\n# Claude의 응답 출력\nprint(get_completion(PROMPT))"
  },
  {
   "cell_type": "code",
   "metadata": {},
   "outputs": [],
   "source": "# 프롬프트\nPROMPT = \"역대 최고의 농구 선수는 누구인가요? 네, 서로 다른 의견들이 있지만, 절대적으로 한 명의 선수를 선택해야 한다면 누구를 고를 건가요?\"\n\n# Claude의 응답 출력\nprint(get_completion(PROMPT))"
  }
 ],
 "metadata": {
  "language_info": {
   "name": "python"
  }
 },
 "nbformat": 4,
 "nbformat_minor": 2
}